{
 "cells": [
  {
   "cell_type": "code",
   "execution_count": 1,
   "metadata": {},
   "outputs": [
    {
     "name": "stdout",
     "output_type": "stream",
     "text": [
      "Enter comma separated numbers: 1909,12\n",
      "['1909', '12']\n"
     ]
    }
   ],
   "source": [
    "# Assignment 2.1 Write a program which accepts a sequence of comma-separated numbers from console and\n",
    "# generate a list.\n",
    "\n",
    "numstr=input(\"Enter comma separated numbers: \")\n",
    "numlist=numstr.split(\",\")\n",
    "print(numlist)"
   ]
  },
  {
   "cell_type": "code",
   "execution_count": 2,
   "metadata": {},
   "outputs": [
    {
     "name": "stdout",
     "output_type": "stream",
     "text": [
      "\n",
      "* \n",
      "* * \n",
      "* * * \n",
      "* * * * \n",
      "* * * * * \n",
      "* * * * \n",
      "* * * \n",
      "* * \n",
      "* \n"
     ]
    }
   ],
   "source": [
    "# Assignment 2.2 Create the below pattern using nested for loop in Python.\n",
    "\n",
    "counter = 0\n",
    "for iteration in range (0,5):\n",
    "    counter += 1\n",
    "    for pattern in range (0, counter-1):\n",
    "        print ('*', end = ' ')\n",
    "    print()\n",
    "for iteration in range (0,5):\n",
    "    counter -= 1\n",
    "    for pattern in range (0, counter+1):\n",
    "        print ('*', end = ' ')\n",
    "    print() "
   ]
  },
  {
   "cell_type": "code",
   "execution_count": 3,
   "metadata": {},
   "outputs": [
    {
     "name": "stdout",
     "output_type": "stream",
     "text": [
      "Enter input string: AcadGild\n",
      "dliGdacA\n"
     ]
    }
   ],
   "source": [
    "# Assignment 2.3 Write a Python program to reverse a word after accepting the input from the user.\n",
    "\n",
    "string = input(\"Enter input string: \")\n",
    "print(string[::-1])"
   ]
  },
  {
   "cell_type": "code",
   "execution_count": 4,
   "metadata": {},
   "outputs": [
    {
     "name": "stdout",
     "output_type": "stream",
     "text": [
      "WE, THE PEOPLE OF INDIA,\n",
      "\thaving solemnly resolved to constitute India into a SOVEREIGN,!\n",
      "\t\tSOCIALIST, SECULAR, DEMOCRATIC REPUBLIC\n",
      "\t\tand to secure to all its citizens \n"
     ]
    }
   ],
   "source": [
    "# Assignment 2.4\n",
    "\n",
    "string = \"WE, THE PEOPLE OF INDIA,{}having solemnly resolved to constitute India into a SOVEREIGN,{}SOCIALIST, SECULAR, DEMOCRATIC REPUBLIC{}and to secure to all its citizens{}\"\n",
    "print(string.format('\\n\\t','!\\n\\t\\t','\\n\\t\\t',' '))"
   ]
  },
  {
   "cell_type": "code",
   "execution_count": null,
   "metadata": {},
   "outputs": [],
   "source": []
  }
 ],
 "metadata": {
  "kernelspec": {
   "display_name": "Python 3",
   "language": "python",
   "name": "python3"
  },
  "language_info": {
   "codemirror_mode": {
    "name": "ipython",
    "version": 3
   },
   "file_extension": ".py",
   "mimetype": "text/x-python",
   "name": "python",
   "nbconvert_exporter": "python",
   "pygments_lexer": "ipython3",
   "version": "3.6.5"
  }
 },
 "nbformat": 4,
 "nbformat_minor": 2
}
